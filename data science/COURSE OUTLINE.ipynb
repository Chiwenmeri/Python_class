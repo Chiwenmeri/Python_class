{
 "cells": [
  {
   "cell_type": "markdown",
   "id": "946b9c63",
   "metadata": {},
   "source": [
    "## Introduction to python"
   ]
  },
  {
   "cell_type": "markdown",
   "id": "103b236a",
   "metadata": {},
   "source": [
    "1. Variables and data typesand conditionals\n",
    "2. list and list methods\n",
    "3. string and string methods\n",
    "4. loops (Foe loops and while loops)\n",
    "5. list comprehension\n",
    "6. Dictionary (Objects), dictonary methods and tupples\n",
    "7. functions\n",
    "8. classes and object orientaed programming in python"
   ]
  },
  {
   "cell_type": "markdown",
   "id": "98abd0a5",
   "metadata": {},
   "source": [
    "## Data science with python"
   ]
  },
  {
   "cell_type": "markdown",
   "id": "7f686efc",
   "metadata": {},
   "source": [
    "1. Series and DataFrames\n",
    "2. Pandas and numpy\n",
    "3. seabon and matplotlib ( visualization) 3b. Modelling\n",
    "4. Regression analysis ( Linear regression )\n",
    "5. Time series modelling (Arima, sarima, Linear regression time series model)"
   ]
  },
  {
   "cell_type": "markdown",
   "id": "14c676ac",
   "metadata": {},
   "source": [
    "## Deployments"
   ]
  },
  {
   "cell_type": "markdown",
   "id": "55605e91",
   "metadata": {},
   "source": [
    "1. Introduction to python flask\n",
    "2. Writting containerized applications (Docker and kuberntes)\n",
    "3. Testing and retesting application"
   ]
  },
  {
   "cell_type": "markdown",
   "id": "11750bff",
   "metadata": {},
   "source": [
    "## Projects"
   ]
  },
  {
   "cell_type": "markdown",
   "id": "cbd924e9",
   "metadata": {},
   "source": [
    "1. Recommendation systems\n",
    "2. sales forecast for any organization\n",
    "3. Forex and crypto bots 2b. (Church memebership forecast based on church programs)"
   ]
  },
  {
   "cell_type": "code",
   "execution_count": null,
   "id": "0392cfcf",
   "metadata": {},
   "outputs": [],
   "source": []
  }
 ],
 "metadata": {
  "kernelspec": {
   "display_name": "Python 3 (ipykernel)",
   "language": "python",
   "name": "python3"
  },
  "language_info": {
   "codemirror_mode": {
    "name": "ipython",
    "version": 3
   },
   "file_extension": ".py",
   "mimetype": "text/x-python",
   "name": "python",
   "nbconvert_exporter": "python",
   "pygments_lexer": "ipython3",
   "version": "3.9.12"
  }
 },
 "nbformat": 4,
 "nbformat_minor": 5
}
