{
 "cells": [
  {
   "cell_type": "code",
   "execution_count": 23,
   "id": "aa057522",
   "metadata": {},
   "outputs": [
    {
     "name": "stdout",
     "output_type": "stream",
     "text": [
      "1.9078784028338909\n"
     ]
    }
   ],
   "source": [
    "array = [4, 6, 9, 10, 8]\n",
    "\n",
    "sum_value = 0\n",
    "for i in array:\n",
    "    sum_value = i + sum_value\n",
    "#print(sum_value)\n",
    "x_mean = sum_value/len(array)\n",
    "#print(x_mean)\n",
    "\n",
    "n_array = []\n",
    "for n in array:\n",
    "    b = round((n - x_mean)**2, 3)\n",
    "    n_array.append(b)\n",
    "#print(n_array)\n",
    "\n",
    "x_sum = 0\n",
    "for a in n_array:\n",
    "    x_sum = x_sum + a\n",
    "#print(x_sum)\n",
    "\n",
    "st_dev = (x_sum/len(array)-1)**(1/2)\n",
    "print(st_dev)"
   ]
  },
  {
   "cell_type": "code",
   "execution_count": 7,
   "id": "ee3cef56",
   "metadata": {},
   "outputs": [
    {
     "name": "stdout",
     "output_type": "stream",
     "text": [
      "enter string values: pina\n",
      "24\n"
     ]
    }
   ],
   "source": [
    "x = input(\"enter string values: \")\n",
    "sum_val = 1\n",
    "for i in range(1, len(x)+1):\n",
    "    sum_val = i *sum_val\n",
    "print(sum_val)"
   ]
  },
  {
   "cell_type": "code",
   "execution_count": 31,
   "id": "9edcb90a",
   "metadata": {
    "scrolled": true
   },
   "outputs": [
    {
     "name": "stdout",
     "output_type": "stream",
     "text": [
      "hen\n",
      "len\n",
      "14\n"
     ]
    }
   ],
   "source": [
    "array1 = [\"hen\", \"len\", \"kate\", 10, 14, False]\n",
    "array2 = [\"dog\", \"cat\", \"kate\", 10, False]\n",
    "\n",
    "for i in array1:\n",
    "    if i not in array2:\n",
    "        print(i)"
   ]
  },
  {
   "cell_type": "code",
   "execution_count": 32,
   "id": "5bddeb86",
   "metadata": {},
   "outputs": [
    {
     "name": "stdout",
     "output_type": "stream",
     "text": [
      "dog\n",
      "cat\n"
     ]
    }
   ],
   "source": [
    "for i in array2:\n",
    "    if i not in array1:\n",
    "        print(i)"
   ]
  },
  {
   "cell_type": "code",
   "execution_count": 33,
   "id": "32d34843",
   "metadata": {},
   "outputs": [
    {
     "name": "stdout",
     "output_type": "stream",
     "text": [
      "['hen', 'len', 14, 'dog', 'cat']\n"
     ]
    }
   ],
   "source": [
    "array_val = []\n",
    "\n",
    "for i in array1:\n",
    "    if i not in array2:\n",
    "        array_val.append(i)\n",
    "for a in array2:\n",
    "    if a not in array1:\n",
    "        array_val.append(a)\n",
    "print(array_val)"
   ]
  },
  {
   "cell_type": "code",
   "execution_count": 34,
   "id": "18627b32",
   "metadata": {},
   "outputs": [
    {
     "name": "stdout",
     "output_type": "stream",
     "text": [
      "['kate', 10, False]\n"
     ]
    }
   ],
   "source": [
    "array_val = []\n",
    "\n",
    "for i in array1:\n",
    "    if i in array2:\n",
    "            array_val.append(i)\n",
    "#for a in array2:\n",
    "#if a in array1:\n",
    "#array_val.append(a)\n",
    "print(array_val)"
   ]
  },
  {
   "cell_type": "code",
   "execution_count": 37,
   "id": "659af746",
   "metadata": {},
   "outputs": [
    {
     "name": "stdout",
     "output_type": "stream",
     "text": [
      "[9, 2, 0, 6, 1, 12, 6, 5]\n"
     ]
    }
   ],
   "source": [
    "array_t = [1, 10, 6, 5, 12]\n",
    "array_k = [10, 12, 6, 11, 13, 12, 6, 5]\n",
    "\n",
    "diff_ = []\n",
    "if len(array_t) ==len(array_k):\n",
    "    for i in range(0,len(array_t)):\n",
    "        diff_val = array_k[i] - array_t[i]\n",
    "        diff_.append(diff_val)\n",
    "    print(diff_)\n",
    "    \n",
    "elif len(array_t) != len(array_k):\n",
    "    if array_k > array_t or array_t > array_k:\n",
    "        p = len(array_k) - len(array_t)\n",
    "        val = [0 for i in range(0, p)]\n",
    "        for i in val:\n",
    "            array_t.append(i)\n",
    "        for i in range(0, len(array_t)):\n",
    "            diff_val = array_k[i] - array_t[i]\n",
    "            diff_.append(diff_val)\n",
    "    print(diff_)\n",
    "else:\n",
    "    print(\"output not entered properly\")"
   ]
  },
  {
   "cell_type": "code",
   "execution_count": 13,
   "id": "ecf398b3",
   "metadata": {},
   "outputs": [
    {
     "data": {
      "text/plain": [
       "8"
      ]
     },
     "execution_count": 13,
     "metadata": {},
     "output_type": "execute_result"
    }
   ],
   "source": [
    "len(array_k)"
   ]
  },
  {
   "cell_type": "code",
   "execution_count": 15,
   "id": "c8d4fd20",
   "metadata": {},
   "outputs": [
    {
     "data": {
      "text/plain": [
       "8"
      ]
     },
     "execution_count": 15,
     "metadata": {},
     "output_type": "execute_result"
    }
   ],
   "source": [
    "len(array_t)"
   ]
  },
  {
   "cell_type": "code",
   "execution_count": 40,
   "id": "344ad748",
   "metadata": {},
   "outputs": [],
   "source": [
    "if array_k > array_t:\n",
    "    p = len(array_k) - len(array_t)\n",
    "    val = [0 for i in range(0, p)]\n",
    "    for i in val:\n",
    "        array_t.append(i)\n",
    "    for i in range(0, len(array_t)):\n",
    "        diff_val = array_t[i] - array_k[i]\n",
    "        diff_.append(diff_val)\n",
    "else:\n",
    "    print(False)"
   ]
  },
  {
   "cell_type": "code",
   "execution_count": 39,
   "id": "7d2c59d0",
   "metadata": {},
   "outputs": [
    {
     "name": "stdout",
     "output_type": "stream",
     "text": [
      "[0, 0, 0]\n"
     ]
    }
   ],
   "source": [
    "val = [0 for i in range(0,3)]\n",
    "print(val)"
   ]
  },
  {
   "cell_type": "code",
   "execution_count": 42,
   "id": "50ddad3a",
   "metadata": {},
   "outputs": [
    {
     "name": "stdout",
     "output_type": "stream",
     "text": [
      "[0, 0, 0]\n"
     ]
    }
   ],
   "source": [
    "val_value = []\n",
    "for i in range(0, 3):\n",
    "    val_value.append(0)\n",
    "print(val_value)"
   ]
  },
  {
   "cell_type": "code",
   "execution_count": 44,
   "id": "05c454fb",
   "metadata": {},
   "outputs": [
    {
     "name": "stdout",
     "output_type": "stream",
     "text": [
      "[0, 3]\n"
     ]
    }
   ],
   "source": [
    "nums = [2, 7, 11, 15]\n",
    "for i in range(len(nums)):\n",
    "    for n in range(i+1, len(nums)):\n",
    "        b = nums[i] + nums[n]\n",
    "        if b == 17:\n",
    "            print([i, n])"
   ]
  },
  {
   "cell_type": "code",
   "execution_count": null,
   "id": "62393e31",
   "metadata": {},
   "outputs": [],
   "source": []
  }
 ],
 "metadata": {
  "kernelspec": {
   "display_name": "Python 3 (ipykernel)",
   "language": "python",
   "name": "python3"
  },
  "language_info": {
   "codemirror_mode": {
    "name": "ipython",
    "version": 3
   },
   "file_extension": ".py",
   "mimetype": "text/x-python",
   "name": "python",
   "nbconvert_exporter": "python",
   "pygments_lexer": "ipython3",
   "version": "3.9.12"
  }
 },
 "nbformat": 4,
 "nbformat_minor": 5
}
