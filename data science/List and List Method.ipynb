{
 "cells": [
  {
   "cell_type": "code",
   "execution_count": 1,
   "id": "d245a984",
   "metadata": {},
   "outputs": [
    {
     "name": "stdout",
     "output_type": "stream",
     "text": [
      "['john', 'james', 'kate', True, 10.55, 34]\n"
     ]
    }
   ],
   "source": [
    "x=[\"john\", \"james\", \"kate\", True, 10.55, 34]\n",
    "print(x)"
   ]
  },
  {
   "cell_type": "code",
   "execution_count": 2,
   "id": "1773314f",
   "metadata": {},
   "outputs": [
    {
     "data": {
      "text/plain": [
       "6"
      ]
     },
     "execution_count": 2,
     "metadata": {},
     "output_type": "execute_result"
    }
   ],
   "source": [
    "len(x)"
   ]
  },
  {
   "cell_type": "code",
   "execution_count": 3,
   "id": "f975b42b",
   "metadata": {},
   "outputs": [
    {
     "data": {
      "text/plain": [
       "5"
      ]
     },
     "execution_count": 3,
     "metadata": {},
     "output_type": "execute_result"
    }
   ],
   "source": [
    "x.index(34)"
   ]
  },
  {
   "cell_type": "code",
   "execution_count": 4,
   "id": "6a8c52bf",
   "metadata": {},
   "outputs": [
    {
     "data": {
      "text/plain": [
       "'john'"
      ]
     },
     "execution_count": 4,
     "metadata": {},
     "output_type": "execute_result"
    }
   ],
   "source": [
    "x[0]"
   ]
  },
  {
   "cell_type": "code",
   "execution_count": 5,
   "id": "c50b33fd",
   "metadata": {},
   "outputs": [
    {
     "data": {
      "text/plain": [
       "['john', 'james', 'kate', True]"
      ]
     },
     "execution_count": 5,
     "metadata": {},
     "output_type": "execute_result"
    }
   ],
   "source": [
    "##slicing\n",
    "x[0:4]"
   ]
  },
  {
   "cell_type": "code",
   "execution_count": 6,
   "id": "368d37dc",
   "metadata": {},
   "outputs": [
    {
     "data": {
      "text/plain": [
       "['john', 'james', 'kate']"
      ]
     },
     "execution_count": 6,
     "metadata": {},
     "output_type": "execute_result"
    }
   ],
   "source": [
    "x[:-3]"
   ]
  },
  {
   "cell_type": "code",
   "execution_count": 7,
   "id": "99956c36",
   "metadata": {},
   "outputs": [
    {
     "data": {
      "text/plain": [
       "[True, 10.55, 34]"
      ]
     },
     "execution_count": 7,
     "metadata": {},
     "output_type": "execute_result"
    }
   ],
   "source": [
    "x[3:]"
   ]
  },
  {
   "cell_type": "code",
   "execution_count": 8,
   "id": "e4d84705",
   "metadata": {},
   "outputs": [
    {
     "name": "stdout",
     "output_type": "stream",
     "text": [
      "john\n",
      "james\n",
      "kate\n",
      "True\n",
      "10.55\n",
      "34\n"
     ]
    }
   ],
   "source": [
    "for i in x:\n",
    "    print(i)"
   ]
  },
  {
   "cell_type": "code",
   "execution_count": 9,
   "id": "9799b618",
   "metadata": {},
   "outputs": [
    {
     "name": "stdout",
     "output_type": "stream",
     "text": [
      "john\n",
      "james\n",
      "kate\n",
      "True\n",
      "10.55\n",
      "34\n"
     ]
    }
   ],
   "source": [
    "for i in range(0, len(x)):\n",
    "    print(x[i])"
   ]
  },
  {
   "cell_type": "code",
   "execution_count": 10,
   "id": "52a04a28",
   "metadata": {},
   "outputs": [
    {
     "name": "stdout",
     "output_type": "stream",
     "text": [
      "['john', 'james', 'kate', True, 10.55, 34]\n"
     ]
    }
   ],
   "source": [
    "array = []\n",
    "for i in range(0, len(x)):\n",
    "    array.append(x[i])\n",
    "print(array)"
   ]
  },
  {
   "cell_type": "code",
   "execution_count": 11,
   "id": "a6df4cfa",
   "metadata": {},
   "outputs": [
    {
     "data": {
      "text/plain": [
       "str"
      ]
     },
     "execution_count": 11,
     "metadata": {},
     "output_type": "execute_result"
    }
   ],
   "source": [
    "type(x[2])"
   ]
  },
  {
   "cell_type": "code",
   "execution_count": 12,
   "id": "4ddae5de",
   "metadata": {},
   "outputs": [
    {
     "name": "stdout",
     "output_type": "stream",
     "text": [
      "['john', 'james', 'kate', True, 10.55, 34]\n"
     ]
    }
   ],
   "source": [
    "print(x)"
   ]
  },
  {
   "cell_type": "code",
   "execution_count": 13,
   "id": "6e6ebf66",
   "metadata": {},
   "outputs": [
    {
     "name": "stdout",
     "output_type": "stream",
     "text": [
      "10.55\n",
      "34\n"
     ]
    }
   ],
   "source": [
    "for i in x:\n",
    "    if type(i) == str or type(i) == bool:\n",
    "        pass\n",
    "    else:\n",
    "        print(i)"
   ]
  },
  {
   "cell_type": "code",
   "execution_count": 14,
   "id": "f4740f0f",
   "metadata": {},
   "outputs": [
    {
     "name": "stdout",
     "output_type": "stream",
     "text": [
      "10.55\n",
      "34\n"
     ]
    }
   ],
   "source": [
    "for i in x:\n",
    "    if type(i) != str and type(i) != bool:\n",
    "        print(i)"
   ]
  },
  {
   "cell_type": "code",
   "execution_count": 15,
   "id": "37489ecd",
   "metadata": {},
   "outputs": [
    {
     "name": "stdout",
     "output_type": "stream",
     "text": [
      "['jude', 'philip', 'reginald', 'jake', 'chowah']\n"
     ]
    }
   ],
   "source": [
    "p = [\"jude\", \"philip\", \"reginald\", \"caleb\", \"jake\", \"chowah\"]\n",
    "even_names = []\n",
    "odd_names = []\n",
    "for i in p:\n",
    "    if len(i)%2 == 0:\n",
    "        even_names.append(i)\n",
    "    else:\n",
    "        odd_names.append(i)\n",
    "print(even_names)"
   ]
  },
  {
   "cell_type": "code",
   "execution_count": 16,
   "id": "a31be796",
   "metadata": {},
   "outputs": [
    {
     "name": "stdout",
     "output_type": "stream",
     "text": [
      "[]\n"
     ]
    }
   ],
   "source": [
    "p = [\"jude\", \"philip\", \"reginald\", \"caleb\", \"jake\", \"chowah\"]\n",
    "even_names = []\n",
    "odd_names = []\n",
    "for i in p:\n",
    "    if len(i)/2 == 0:\n",
    "        even_names.append(i)\n",
    "    else:\n",
    "        odd_names.append(i)\n",
    "print(even_names)"
   ]
  },
  {
   "cell_type": "code",
   "execution_count": 17,
   "id": "832462f3",
   "metadata": {},
   "outputs": [
    {
     "name": "stdout",
     "output_type": "stream",
     "text": [
      "[]\n"
     ]
    }
   ],
   "source": [
    "p = [\"jude\", \"philip\", \"reginald\", \"caleb\", \"jake\", \"chowah\"]\n",
    "even_names = []\n",
    "odd_names = []\n",
    "for i in p:\n",
    "    if len(i)/2 == 0:\n",
    "        even_names.append(i)\n",
    "    else:\n",
    "        odd_names.append(i)\n",
    "print(even_names)"
   ]
  },
  {
   "cell_type": "code",
   "execution_count": 18,
   "id": "763af441",
   "metadata": {},
   "outputs": [
    {
     "name": "stdout",
     "output_type": "stream",
     "text": [
      "['Ben', 'Tope', 'Abel']\n"
     ]
    }
   ],
   "source": [
    "upper_names = []\n",
    "names = [\"ben\", \"tope\", \"abel\"]\n",
    "for i in range(0, len(names)):\n",
    "    names_val = names[i][0].upper() + names[i][1:]\n",
    "    upper_names.append(names_val)\n",
    "print(upper_names)"
   ]
  },
  {
   "cell_type": "code",
   "execution_count": 19,
   "id": "9ee8ec77",
   "metadata": {},
   "outputs": [
    {
     "data": {
      "text/plain": [
       "'en'"
      ]
     },
     "execution_count": 19,
     "metadata": {},
     "output_type": "execute_result"
    }
   ],
   "source": [
    "names[0][1:]"
   ]
  },
  {
   "cell_type": "code",
   "execution_count": 20,
   "id": "e2679b4f",
   "metadata": {},
   "outputs": [
    {
     "data": {
      "text/plain": [
       "'NANI'"
      ]
     },
     "execution_count": 20,
     "metadata": {},
     "output_type": "execute_result"
    }
   ],
   "source": [
    "x = \"nani\"\n",
    "p = [\"jake\", 12]\n",
    "len(p)\n",
    "x.upper()"
   ]
  },
  {
   "cell_type": "code",
   "execution_count": 21,
   "id": "3a61026a",
   "metadata": {},
   "outputs": [
    {
     "name": "stdout",
     "output_type": "stream",
     "text": [
      "['jane', 'tobi']\n"
     ]
    }
   ],
   "source": [
    "p = [\"jane\"]\n",
    "b = ['tobi']\n",
    "\n",
    "p.append(b[0])\n",
    "print(p)"
   ]
  },
  {
   "cell_type": "code",
   "execution_count": 22,
   "id": "d8118032",
   "metadata": {},
   "outputs": [
    {
     "name": "stdout",
     "output_type": "stream",
     "text": [
      "enter_value: beauty\n",
      "[]\n"
     ]
    }
   ],
   "source": [
    "input_value = input(\"enter_value: \")\n",
    "array = [\"john\", \"timothy\", 10, 33, \"jude\", \"beauty\"]\n",
    "new_arry = []\n",
    "for i in array:\n",
    "    b = str(i)\n",
    "    new_arry.append(b)\n",
    "f_ans = new_arry[new_arry.index(input_value)+1:]\n",
    "print(f_ans)"
   ]
  },
  {
   "cell_type": "code",
   "execution_count": 23,
   "id": "7866c379",
   "metadata": {},
   "outputs": [
    {
     "name": "stdout",
     "output_type": "stream",
     "text": [
      "enter_value: jude\n",
      "['33', '10', 'timothy', 'john']\n"
     ]
    }
   ],
   "source": [
    "input_value = input(\"enter_value: \")\n",
    "array = [\"john\", \"timothy\", 10, 33, \"jude\", \"beauty\"]\n",
    "new_arry = []\n",
    "for i in array:\n",
    "    b = str(i)\n",
    "    new_arry.append(b)\n",
    "f_ans = new_arry[:new_arry.index(input_value)]\n",
    "f_ans.reverse()\n",
    "print(f_ans)"
   ]
  },
  {
   "cell_type": "code",
   "execution_count": 24,
   "id": "41d76c1b",
   "metadata": {},
   "outputs": [
    {
     "name": "stdout",
     "output_type": "stream",
     "text": [
      "enter_value: timothy\n",
      "enter left or right: r\n",
      "['10', '33', 'jude', 'beauty']\n"
     ]
    }
   ],
   "source": [
    "array = [\"john\", \"timothy\", 10, 33, \"jude\", \"beauty\"]\n",
    "##########################################################\n",
    "input_value = input(\"enter_value: \")\n",
    "pick_from = input(\"enter left or right: \").lower()\n",
    "new_arry = []\n",
    "for i in array:\n",
    "    b = str(i)\n",
    "    new_arry.append(b)\n",
    "    \n",
    "if pick_from == \"l\":\n",
    "    f_ans = new_arry[:new_arry.index(input_value)]\n",
    "    f_ans.reverse()\n",
    "    print(f_ans)\n",
    "else:\n",
    "    f_ans = new_arry[new_arry.index(input_value)+1:]\n",
    "    print(f_ans)"
   ]
  },
  {
   "cell_type": "markdown",
   "id": "bef905dd",
   "metadata": {},
   "source": [
    "## Temperation"
   ]
  },
  {
   "cell_type": "markdown",
   "id": "92bffbcd",
   "metadata": {},
   "source": [
    "formular = temperature_value + 273 only values less than 100\n",
    "and temperature_value to C with only values greater than 100"
   ]
  },
  {
   "cell_type": "code",
   "execution_count": 25,
   "id": "fd22b38a",
   "metadata": {},
   "outputs": [
    {
     "name": "stdout",
     "output_type": "stream",
     "text": [
      "['340k', '317k', '329k', '300k', '341k']\n",
      "['102c', '190c', '101c']\n"
     ]
    }
   ],
   "source": [
    "all_temperatures = []\n",
    "second_arrays = []\n",
    "temperature_value = [102, 67, 44, 190, 56, 27, 101, 68]\n",
    "for i in temperature_value:\n",
    "    if i < 100:\n",
    "        temp = i + 273\n",
    "        a = f\"{temp}k\"\n",
    "        all_temperatures.append(a)\n",
    "    else:\n",
    "        b = f\"{i}c\"\n",
    "        second_arrays.append(b)\n",
    "print(all_temperatures)\n",
    "print(second_arrays)"
   ]
  },
  {
   "cell_type": "code",
   "execution_count": 26,
   "id": "a2aff50a",
   "metadata": {},
   "outputs": [
    {
     "name": "stdout",
     "output_type": "stream",
     "text": [
      "False\n",
      "[]\n"
     ]
    }
   ],
   "source": [
    "a = [5, 10, 15, 20]\n",
    "b = [10, 20,30 , 40, 30]\n",
    "diff_arry = []\n",
    "\n",
    "if len(a) == len(b):\n",
    "    for i in range(0, len(a)):\n",
    "        diff = a[i] - b[i]\n",
    "        diff_arry.append(diff)\n",
    "else:\n",
    "    print(False)\n",
    "    \n",
    "print(diff_arry)"
   ]
  },
  {
   "cell_type": "code",
   "execution_count": null,
   "id": "2321d522",
   "metadata": {},
   "outputs": [],
   "source": []
  }
 ],
 "metadata": {
  "kernelspec": {
   "display_name": "Python 3 (ipykernel)",
   "language": "python",
   "name": "python3"
  },
  "language_info": {
   "codemirror_mode": {
    "name": "ipython",
    "version": 3
   },
   "file_extension": ".py",
   "mimetype": "text/x-python",
   "name": "python",
   "nbconvert_exporter": "python",
   "pygments_lexer": "ipython3",
   "version": "3.9.12"
  }
 },
 "nbformat": 4,
 "nbformat_minor": 5
}
