{
 "cells": [
  {
   "cell_type": "code",
   "execution_count": 30,
   "id": "025a1f38",
   "metadata": {},
   "outputs": [
    {
     "name": "stdout",
     "output_type": "stream",
     "text": [
      "enter score: 10\n",
      "15\n"
     ]
    }
   ],
   "source": [
    "x = int(input(\"enter score: \"))\n",
    "print (x + 5)"
   ]
  },
  {
   "cell_type": "code",
   "execution_count": null,
   "id": "09c0d446",
   "metadata": {},
   "outputs": [],
   "source": [
    "array_values = []\n",
    "b = int(input(\"enter how many values you want the array to contain: \"))\n",
    "for i in range(1, b+1):\n",
    "    values = float(input(f\"enter value {i}: \"))\n",
    "    array_values.append(values)\n",
    "print(array_values)"
   ]
  },
  {
   "cell_type": "code",
   "execution_count": 5,
   "id": "e64e6129",
   "metadata": {},
   "outputs": [
    {
     "name": "stdout",
     "output_type": "stream",
     "text": [
      "[22.3, 22.1, 15.8, 16.1, 78.0]\n"
     ]
    }
   ],
   "source": [
    "print(array_values)"
   ]
  },
  {
   "cell_type": "code",
   "execution_count": 6,
   "id": "6eea4025",
   "metadata": {},
   "outputs": [
    {
     "name": "stdout",
     "output_type": "stream",
     "text": [
      "78.0\n"
     ]
    }
   ],
   "source": [
    "k = 0\n",
    "for i in array_values:\n",
    "    k = k =i\n",
    "print(k)"
   ]
  },
  {
   "cell_type": "code",
   "execution_count": 7,
   "id": "aa946ed5",
   "metadata": {},
   "outputs": [
    {
     "name": "stdout",
     "output_type": "stream",
     "text": [
      "enter how many values you want the array to contain: 3\n",
      "enter value 1: 10\n",
      "enter value 2: 30\n",
      "enter value 3: 100\n",
      "the sum of the value is 140.0\n"
     ]
    }
   ],
   "source": [
    "array_values = []\n",
    "k = 0\n",
    "b = int(input(\"enter how many values you want the array to contain: \"))\n",
    "for i in range(1, b+1):\n",
    "    values = float(input(f\"enter value {i}: \"))\n",
    "    array_values.append(values)\n",
    "for i in array_values:\n",
    "    k = k + i\n",
    "print(f\"the sum of the value is {k}\")"
   ]
  },
  {
   "cell_type": "code",
   "execution_count": 8,
   "id": "c0141b7a",
   "metadata": {},
   "outputs": [
    {
     "name": "stdout",
     "output_type": "stream",
     "text": [
      "21\n"
     ]
    }
   ],
   "source": [
    "x_arr = [10, 2.1, 21, 8, 5, 4, 1.1]\n",
    "b = x_arr[0]\n",
    "for i in x_arr:\n",
    "    if i > b:\n",
    "        b = i\n",
    "print(b)"
   ]
  },
  {
   "cell_type": "code",
   "execution_count": 19,
   "id": "55345144",
   "metadata": {},
   "outputs": [
    {
     "name": "stdout",
     "output_type": "stream",
     "text": [
      "1.0\n"
     ]
    }
   ],
   "source": [
    "#mean of array x_arr\n",
    "sum_value = 0\n",
    "for i in x_arr:\n",
    "    sum_value = sum_value + 1\n",
    "mean_value = round(sum_value/len(x_arr), 3)\n",
    "print(mean_value)"
   ]
  },
  {
   "cell_type": "code",
   "execution_count": null,
   "id": "63b4ed49",
   "metadata": {},
   "outputs": [],
   "source": [
    "#median of array x_arr\n",
    "print(x_arr)\n",
    "[1.1, 2.1, 4, 5, 8, 10,21]\n",
    "x_arr.sort()"
   ]
  },
  {
   "cell_type": "code",
   "execution_count": 11,
   "id": "98769c7a",
   "metadata": {},
   "outputs": [
    {
     "name": "stdout",
     "output_type": "stream",
     "text": [
      "5\n"
     ]
    }
   ],
   "source": [
    "mid = int(len(x_arr)/2)\n",
    "print(x_arr[mid])"
   ]
  },
  {
   "cell_type": "code",
   "execution_count": 12,
   "id": "98bcc4d3",
   "metadata": {},
   "outputs": [],
   "source": [
    "x_arr.append(6)"
   ]
  },
  {
   "cell_type": "code",
   "execution_count": 13,
   "id": "121bb964",
   "metadata": {},
   "outputs": [
    {
     "name": "stdout",
     "output_type": "stream",
     "text": [
      "[1.1, 2.1, 4, 5, 8, 10, 21, 6]\n"
     ]
    }
   ],
   "source": [
    "print(x_arr)"
   ]
  },
  {
   "cell_type": "code",
   "execution_count": 14,
   "id": "0dd9c588",
   "metadata": {},
   "outputs": [
    {
     "name": "stdout",
     "output_type": "stream",
     "text": [
      "5.0\n"
     ]
    }
   ],
   "source": [
    "mid1 = int(len(x_arr)/2)\n",
    "mid2 = mid1 -1\n",
    "median_val = (x_arr[mid] + x_arr[mid2])/2\n",
    "print(median_val)"
   ]
  },
  {
   "cell_type": "code",
   "execution_count": null,
   "id": "924bf1df",
   "metadata": {},
   "outputs": [],
   "source": [
    "array_values = []\n",
    "k = 0\n",
    "b = int(input(\"enter how many values you want the array to contain: \"))\n",
    "for i in range(1, b+1):\n",
    "    values = float(input(f\"enter value {i}: \"))\n",
    "    array_values.append(values)\n",
    "for i in array_values:\n",
    "    k = k + 1"
   ]
  },
  {
   "cell_type": "code",
   "execution_count": 25,
   "id": "cdc15d47",
   "metadata": {},
   "outputs": [
    {
     "name": "stdout",
     "output_type": "stream",
     "text": [
      "enter the measure of central tendency you want: median\n",
      "enter how many values you want the array to contain: 4\n",
      "enter value 1: 4\n",
      "enter value 2: 6\n",
      "enter value 3: 3\n",
      "enter value 4: 5\n",
      "4.5\n"
     ]
    }
   ],
   "source": [
    "measure_tendency = input(\"enter the measure of central tendency you want: \").lower()\n",
    "array_values = []\n",
    "k = 0\n",
    "b = int(input(\"enter how many values you want the array to contain: \"))\n",
    "for i in range(1, b+1):\n",
    "    values = float(input(f\"enter value {i}: \"))\n",
    "    array_values.append(values)\n",
    "for i in array_values:\n",
    "    k = k + 1\n",
    "    \n",
    "###############################################################################\n",
    "\n",
    "if measure_tendency == \"median\":\n",
    "    array_values.sort()\n",
    "    if len(array_values)%2 != 0:\n",
    "        mid = int(len(array_values)/2)\n",
    "        print(array_values[mid])\n",
    "    else:\n",
    "        mid1 = int(len(array_values)/2)\n",
    "        mid2 = mid1 - 1\n",
    "        median_val = (array_values[mid1] + array_values[mid2])/2\n",
    "        print(median_val)\n",
    "    \n",
    "elif measure_tendency == \"mean\":\n",
    "    sum_value = 0\n",
    "    for i in array_values:\n",
    "        sum_value = sum_value + i\n",
    "        \n",
    "    mean_value = round(sum_value/len(array_values), 3)\n",
    "    print(mean_value)\n",
    "    \n",
    "else:\n",
    "    print(\"measure of central tendency not defined!!!!\")    "
   ]
  },
  {
   "cell_type": "markdown",
   "id": "4a273e35",
   "metadata": {},
   "source": []
  }
 ],
 "metadata": {
  "kernelspec": {
   "display_name": "Python 3 (ipykernel)",
   "language": "python",
   "name": "python3"
  },
  "language_info": {
   "codemirror_mode": {
    "name": "ipython",
    "version": 3
   },
   "file_extension": ".py",
   "mimetype": "text/x-python",
   "name": "python",
   "nbconvert_exporter": "python",
   "pygments_lexer": "ipython3",
   "version": "3.9.12"
  }
 },
 "nbformat": 4,
 "nbformat_minor": 5
}
